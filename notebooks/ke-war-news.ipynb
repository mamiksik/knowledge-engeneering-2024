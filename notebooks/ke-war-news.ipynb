{
 "metadata": {
  "kernelspec": {
   "language": "python",
   "display_name": "Python 3",
   "name": "python3"
  },
  "language_info": {
   "name": "python",
   "version": "3.10.13",
   "mimetype": "text/x-python",
   "codemirror_mode": {
    "name": "ipython",
    "version": 3
   },
   "pygments_lexer": "ipython3",
   "nbconvert_exporter": "python",
   "file_extension": ".py"
  },
  "kaggle": {
   "accelerator": "gpu",
   "dataSources": [
    {
     "sourceId": 6116921,
     "sourceType": "datasetVersion",
     "datasetId": 3496138
    }
   ],
   "dockerImageVersionId": 30733,
   "isInternetEnabled": true,
   "language": "python",
   "sourceType": "notebook",
   "isGpuEnabled": true
  }
 },
 "nbformat_minor": 4,
 "nbformat": 4,
 "cells": [
  {
   "cell_type": "code",
   "source": "#Download ollama\n!curl -fsSL https://ollama.com/install.sh | sh\n!pip install ollama",
   "metadata": {
    "_uuid": "8f2839f25d086af736a60e9eeb907d3b93b6e0e5",
    "_cell_guid": "b1076dfc-b9ad-4769-8c92-a6c4dae69d19",
    "execution": {
     "iopub.status.busy": "2024-06-05T11:44:01.967189Z",
     "iopub.execute_input": "2024-06-05T11:44:01.967623Z",
     "iopub.status.idle": "2024-06-05T11:44:17.875162Z",
     "shell.execute_reply.started": "2024-06-05T11:44:01.967594Z",
     "shell.execute_reply": "2024-06-05T11:44:17.874052Z"
    },
    "trusted": true
   },
   "execution_count": 12,
   "outputs": [
    {
     "name": "stdout",
     "text": ">>> Downloading ollama...\n######################################################################## 100.0%\n>>> Installing ollama to /usr/local/bin...\n>>> Adding ollama user to video group...\n>>> Adding current user to ollama group...\n>>> Creating ollama systemd service...\n>>> NVIDIA GPU installed.\n>>> The Ollama API is now available at 127.0.0.1:11434.\n>>> Install complete. Run \"ollama\" from the command line.\nRequirement already satisfied: ollama in /opt/conda/lib/python3.10/site-packages (0.2.0)\nRequirement already satisfied: httpx<0.28.0,>=0.27.0 in /opt/conda/lib/python3.10/site-packages (from ollama) (0.27.0)\nRequirement already satisfied: anyio in /opt/conda/lib/python3.10/site-packages (from httpx<0.28.0,>=0.27.0->ollama) (4.2.0)\nRequirement already satisfied: certifi in /opt/conda/lib/python3.10/site-packages (from httpx<0.28.0,>=0.27.0->ollama) (2024.2.2)\nRequirement already satisfied: httpcore==1.* in /opt/conda/lib/python3.10/site-packages (from httpx<0.28.0,>=0.27.0->ollama) (1.0.5)\nRequirement already satisfied: idna in /opt/conda/lib/python3.10/site-packages (from httpx<0.28.0,>=0.27.0->ollama) (3.6)\nRequirement already satisfied: sniffio in /opt/conda/lib/python3.10/site-packages (from httpx<0.28.0,>=0.27.0->ollama) (1.3.0)\nRequirement already satisfied: h11<0.15,>=0.13 in /opt/conda/lib/python3.10/site-packages (from httpcore==1.*->httpx<0.28.0,>=0.27.0->ollama) (0.14.0)\nRequirement already satisfied: exceptiongroup>=1.0.2 in /opt/conda/lib/python3.10/site-packages (from anyio->httpx<0.28.0,>=0.27.0->ollama) (1.2.0)\nRequirement already satisfied: typing-extensions>=4.1 in /opt/conda/lib/python3.10/site-packages (from anyio->httpx<0.28.0,>=0.27.0->ollama) (4.9.0)\n",
     "output_type": "stream"
    }
   ]
  },
  {
   "cell_type": "code",
   "source": [
    "#Download model\n",
    "!ollama pull llama3"
   ],
   "metadata": {
    "trusted": true
   },
   "execution_count": null,
   "outputs": []
  },
  {
   "cell_type": "code",
   "source": "from tqdm import tqdm\nimport ollama\nimport pandas as pd\nfrom datetime import date\nimport subprocess",
   "metadata": {
    "execution": {
     "iopub.status.busy": "2024-06-05T11:48:59.740204Z",
     "iopub.execute_input": "2024-06-05T11:48:59.740608Z",
     "iopub.status.idle": "2024-06-05T11:48:59.746022Z",
     "shell.execute_reply.started": "2024-06-05T11:48:59.740576Z",
     "shell.execute_reply": "2024-06-05T11:48:59.745004Z"
    },
    "trusted": true
   },
   "execution_count": 21,
   "outputs": []
  },
  {
   "metadata": {
    "jupyter": {
     "is_executing": true
    }
   },
   "cell_type": "code",
   "source": [
    "prompt = (\n",
    "    \"Hello, please act as a news analyst. I want to classify the article into one of 3 categories: increase-support/decrease-support/not-known. Based on article content tell me, if the stakeholders (e.g. world leaders) are extending their support to Ukraine (category increase-support) or diminishing it (category decrease-support). If this information is not clear from the article (e.g. the article reports on war development, but does not mention the reaction of other world leaders) respond with the category not-known. Your response must be only the category and nothing else. The article content: \"\n",
    ")\n",
    "\n",
    "modfile = (\n",
    "    'FROM llama3\\n'\n",
    "    f'SYSTEM \"{prompt}\"'\n",
    ")\n",
    "\n",
    "with open(\"/kaggle/working/Modfile\", \"w\") as f:\n",
    "    f.write(modfile)\n",
    "\n",
    "subprocess.call(\"ollama create analyzer -f /kaggle/working/Modfile\", shell=True)"
   ],
   "outputs": [],
   "execution_count": null
  },
  {
   "cell_type": "code",
   "source": [
    "try:\n",
    "    # Attempt to kill process if ollama is already running\n",
    "    process.kill()\n",
    "except NameError:\n",
    "    pass\n",
    "\n",
    "process = subprocess.Popen(\"ollama serve\", shell=True, stdout=subprocess.DEVNULL) #runs on a different thread"
   ],
   "metadata": {
    "execution": {
     "iopub.status.busy": "2024-06-05T14:00:04.555460Z",
     "iopub.execute_input": "2024-06-05T14:00:04.556324Z",
     "iopub.status.idle": "2024-06-05T14:00:04.562198Z",
     "shell.execute_reply.started": "2024-06-05T14:00:04.556284Z",
     "shell.execute_reply": "2024-06-05T14:00:04.561075Z"
    },
    "trusted": true
   },
   "execution_count": 113,
   "outputs": [
    {
     "name": "stderr",
     "text": "2024/06/05 14:00:04 routes.go:1007: INFO server config env=\"map[OLLAMA_DEBUG:false OLLAMA_FLASH_ATTENTION:false OLLAMA_HOST: OLLAMA_KEEP_ALIVE: OLLAMA_LLM_LIBRARY: OLLAMA_MAX_LOADED_MODELS:1 OLLAMA_MAX_QUEUE:512 OLLAMA_MAX_VRAM:0 OLLAMA_MODELS: OLLAMA_NOHISTORY:false OLLAMA_NOPRUNE:false OLLAMA_NUM_PARALLEL:1 OLLAMA_ORIGINS:[http://localhost https://localhost http://localhost:* https://localhost:* http://127.0.0.1 https://127.0.0.1 http://127.0.0.1:* https://127.0.0.1:* http://0.0.0.0 https://0.0.0.0 http://0.0.0.0:* https://0.0.0.0:*] OLLAMA_RUNNERS_DIR: OLLAMA_TMPDIR:]\"\ntime=2024-06-05T14:00:04.577Z level=INFO source=images.go:729 msg=\"total blobs: 12\"\ntime=2024-06-05T14:00:04.577Z level=INFO source=images.go:736 msg=\"total unused blobs removed: 0\"\ntime=2024-06-05T14:00:04.577Z level=INFO source=routes.go:1053 msg=\"Listening on 127.0.0.1:11434 (version 0.1.41)\"\ntime=2024-06-05T14:00:04.578Z level=INFO source=payload.go:30 msg=\"extracting embedded files\" dir=/tmp/ollama3818707163/runners\n",
     "output_type": "stream"
    }
   ]
  },
  {
   "cell_type": "code",
   "source": "def parse_war_news(start_date: date, end_date: date, source_whitelist, path='datasets/war_news.csv', ):\n    df = pd.read_csv(path)\n    df['date'] = pd.to_datetime(df['date'])\n    df = df[\n        (df['date'] >= start_date)\n        & (df['date'] <= end_date)\n        ]\n\n    df = df[df['group_name'].isin(source_whitelist)]\n    return df\n\n\ndef analyze_sentiment(text):\n    response = ollama.generate(model='analyzer', prompt=f\"{text}\")\n    return response['response']\n\n\ndef add_sentiment(df):\n    df['sentiment'] = df['text'].apply(analyze_sentiment)\n    return df",
   "metadata": {
    "execution": {
     "iopub.status.busy": "2024-06-05T14:00:58.950418Z",
     "iopub.execute_input": "2024-06-05T14:00:58.950777Z",
     "iopub.status.idle": "2024-06-05T14:00:58.958658Z",
     "shell.execute_reply.started": "2024-06-05T14:00:58.950743Z",
     "shell.execute_reply": "2024-06-05T14:00:58.957749Z"
    },
    "trusted": true
   },
   "execution_count": 115,
   "outputs": []
  },
  {
   "cell_type": "code",
   "source": [
    "start_date = \"2020-01-01\"\n",
    "end_date = \"2023-12-31\"\n",
    "\n",
    "# Sources from https://www.kaggle.com/datasets/falloutbabe/russian-invasion-of-ukraine-live-news-dataset\n",
    "path = '/kaggle/input/russian-invasion-of-ukraine-live-news-dataset/news.csv'\n",
    "\n",
    "source_whitelist = [\n",
    "    'Washington Post',\n",
    "    'The New York Times'\n",
    "]\n",
    "\n",
    "war_news = parse_war_news(start_date, end_date, source_whitelist, path)\n",
    "# war_news = war_news.sample(n=50)\n",
    "print(\"Parsed war news: columns\", war_news.columns, \"shape\", war_news.shape)"
   ],
   "metadata": {
    "execution": {
     "iopub.status.busy": "2024-06-05T14:03:09.962873Z",
     "iopub.execute_input": "2024-06-05T14:03:09.963634Z",
     "iopub.status.idle": "2024-06-05T14:03:14.404432Z",
     "shell.execute_reply.started": "2024-06-05T14:03:09.963599Z",
     "shell.execute_reply": "2024-06-05T14:03:14.403511Z"
    },
    "trusted": true
   },
   "execution_count": 119,
   "outputs": [
    {
     "name": "stdout",
     "text": "Parsed war news: columns Index(['id', 'group_id', 'group_name', 'text', 'date'], dtype='object') shape (4079, 5)\n",
     "output_type": "stream"
    }
   ]
  },
  {
   "cell_type": "code",
   "source": "war_news = add_sentiment(war_news)\nwar_news.head()",
   "metadata": {
    "execution": {
     "iopub.status.busy": "2024-06-05T14:03:22.917558Z",
     "iopub.execute_input": "2024-06-05T14:03:22.917917Z",
     "iopub.status.idle": "2024-06-05T15:03:44.603353Z",
     "shell.execute_reply.started": "2024-06-05T14:03:22.917889Z",
     "shell.execute_reply": "2024-06-05T15:03:44.602384Z"
    },
    "trusted": true
   },
   "execution_count": 120,
   "outputs": [
    {
     "execution_count": 120,
     "output_type": "execute_result",
     "data": {
      "text/plain": "        id group_id          group_name  \\\n294664   7  nytimes  The New York Times   \n294665   8  nytimes  The New York Times   \n294666  10  nytimes  The New York Times   \n294667  11  nytimes  The New York Times   \n294668  12  nytimes  The New York Times   \n\n                                                     text       date  \\\n294664  Welcome to the Telegram channel from The New Y... 2022-03-11   \n294665  The low rumble of heavy artillery fire echoed ... 2022-03-11   \n294666  After a night of shelling, Ukrainians assess t... 2022-03-12   \n294667  U.S. Officials Say Superyacht Could be Putin’s... 2022-03-12   \n294668  Street battles hit a Kyiv suburb, some of the ... 2022-03-12   \n\n               sentiment  \n294664         not-known  \n294665  increase-support  \n294666         not-known  \n294667  increase-support  \n294668         not-known  ",
      "text/html": "<div>\n<style scoped>\n    .dataframe tbody tr th:only-of-type {\n        vertical-align: middle;\n    }\n\n    .dataframe tbody tr th {\n        vertical-align: top;\n    }\n\n    .dataframe thead th {\n        text-align: right;\n    }\n</style>\n<table border=\"1\" class=\"dataframe\">\n  <thead>\n    <tr style=\"text-align: right;\">\n      <th></th>\n      <th>id</th>\n      <th>group_id</th>\n      <th>group_name</th>\n      <th>text</th>\n      <th>date</th>\n      <th>sentiment</th>\n    </tr>\n  </thead>\n  <tbody>\n    <tr>\n      <th>294664</th>\n      <td>7</td>\n      <td>nytimes</td>\n      <td>The New York Times</td>\n      <td>Welcome to the Telegram channel from The New Y...</td>\n      <td>2022-03-11</td>\n      <td>not-known</td>\n    </tr>\n    <tr>\n      <th>294665</th>\n      <td>8</td>\n      <td>nytimes</td>\n      <td>The New York Times</td>\n      <td>The low rumble of heavy artillery fire echoed ...</td>\n      <td>2022-03-11</td>\n      <td>increase-support</td>\n    </tr>\n    <tr>\n      <th>294666</th>\n      <td>10</td>\n      <td>nytimes</td>\n      <td>The New York Times</td>\n      <td>After a night of shelling, Ukrainians assess t...</td>\n      <td>2022-03-12</td>\n      <td>not-known</td>\n    </tr>\n    <tr>\n      <th>294667</th>\n      <td>11</td>\n      <td>nytimes</td>\n      <td>The New York Times</td>\n      <td>U.S. Officials Say Superyacht Could be Putin’s...</td>\n      <td>2022-03-12</td>\n      <td>increase-support</td>\n    </tr>\n    <tr>\n      <th>294668</th>\n      <td>12</td>\n      <td>nytimes</td>\n      <td>The New York Times</td>\n      <td>Street battles hit a Kyiv suburb, some of the ...</td>\n      <td>2022-03-12</td>\n      <td>not-known</td>\n    </tr>\n  </tbody>\n</table>\n</div>"
     },
     "metadata": {}
    }
   ]
  },
  {
   "cell_type": "code",
   "source": "war_news.to_csv('/kaggle/working/war_news_sentiment_3.csv', index=False)\nwar_news",
   "metadata": {
    "execution": {
     "iopub.status.busy": "2024-06-05T15:03:44.605409Z",
     "iopub.execute_input": "2024-06-05T15:03:44.605762Z",
     "iopub.status.idle": "2024-06-05T15:03:44.784269Z",
     "shell.execute_reply.started": "2024-06-05T15:03:44.605730Z",
     "shell.execute_reply": "2024-06-05T15:03:44.783356Z"
    },
    "trusted": true
   },
   "execution_count": 121,
   "outputs": [
    {
     "execution_count": 121,
     "output_type": "execute_result",
     "data": {
      "text/plain": "          id        group_id          group_name  \\\n294664     7         nytimes  The New York Times   \n294665     8         nytimes  The New York Times   \n294666    10         nytimes  The New York Times   \n294667    11         nytimes  The New York Times   \n294668    12         nytimes  The New York Times   \n...      ...             ...                 ...   \n386838  2568         nytimes  The New York Times   \n386839  2881  washingtonpost     Washington Post   \n386840  2882  washingtonpost     Washington Post   \n386841  2883  washingtonpost     Washington Post   \n386842  2884  washingtonpost     Washington Post   \n\n                                                     text       date  \\\n294664  Welcome to the Telegram channel from The New Y... 2022-03-11   \n294665  The low rumble of heavy artillery fire echoed ... 2022-03-11   \n294666  After a night of shelling, Ukrainians assess t... 2022-03-12   \n294667  U.S. Officials Say Superyacht Could be Putin’s... 2022-03-12   \n294668  Street battles hit a Kyiv suburb, some of the ... 2022-03-12   \n...                                                   ...        ...   \n386838  Here are some of the stories we're covering fr... 2023-07-03   \n386839  Here's the latest from Ukraine:.- About 700,00... 2023-07-03   \n386840  After mutiny, Kremlin looks to unwind holdings... 2023-07-03   \n386841  Celebrated Ukrainian war writer killed in Russ... 2023-07-03   \n386842  Here is the latest from Ukraine:.- The founder... 2023-07-03   \n\n               sentiment  \n294664         not-known  \n294665  increase-support  \n294666         not-known  \n294667  increase-support  \n294668         not-known  \n...                  ...  \n386838         not-known  \n386839         not-known  \n386840         not-known  \n386841         not-known  \n386842         not-known  \n\n[4079 rows x 6 columns]",
      "text/html": "<div>\n<style scoped>\n    .dataframe tbody tr th:only-of-type {\n        vertical-align: middle;\n    }\n\n    .dataframe tbody tr th {\n        vertical-align: top;\n    }\n\n    .dataframe thead th {\n        text-align: right;\n    }\n</style>\n<table border=\"1\" class=\"dataframe\">\n  <thead>\n    <tr style=\"text-align: right;\">\n      <th></th>\n      <th>id</th>\n      <th>group_id</th>\n      <th>group_name</th>\n      <th>text</th>\n      <th>date</th>\n      <th>sentiment</th>\n    </tr>\n  </thead>\n  <tbody>\n    <tr>\n      <th>294664</th>\n      <td>7</td>\n      <td>nytimes</td>\n      <td>The New York Times</td>\n      <td>Welcome to the Telegram channel from The New Y...</td>\n      <td>2022-03-11</td>\n      <td>not-known</td>\n    </tr>\n    <tr>\n      <th>294665</th>\n      <td>8</td>\n      <td>nytimes</td>\n      <td>The New York Times</td>\n      <td>The low rumble of heavy artillery fire echoed ...</td>\n      <td>2022-03-11</td>\n      <td>increase-support</td>\n    </tr>\n    <tr>\n      <th>294666</th>\n      <td>10</td>\n      <td>nytimes</td>\n      <td>The New York Times</td>\n      <td>After a night of shelling, Ukrainians assess t...</td>\n      <td>2022-03-12</td>\n      <td>not-known</td>\n    </tr>\n    <tr>\n      <th>294667</th>\n      <td>11</td>\n      <td>nytimes</td>\n      <td>The New York Times</td>\n      <td>U.S. Officials Say Superyacht Could be Putin’s...</td>\n      <td>2022-03-12</td>\n      <td>increase-support</td>\n    </tr>\n    <tr>\n      <th>294668</th>\n      <td>12</td>\n      <td>nytimes</td>\n      <td>The New York Times</td>\n      <td>Street battles hit a Kyiv suburb, some of the ...</td>\n      <td>2022-03-12</td>\n      <td>not-known</td>\n    </tr>\n    <tr>\n      <th>...</th>\n      <td>...</td>\n      <td>...</td>\n      <td>...</td>\n      <td>...</td>\n      <td>...</td>\n      <td>...</td>\n    </tr>\n    <tr>\n      <th>386838</th>\n      <td>2568</td>\n      <td>nytimes</td>\n      <td>The New York Times</td>\n      <td>Here are some of the stories we're covering fr...</td>\n      <td>2023-07-03</td>\n      <td>not-known</td>\n    </tr>\n    <tr>\n      <th>386839</th>\n      <td>2881</td>\n      <td>washingtonpost</td>\n      <td>Washington Post</td>\n      <td>Here's the latest from Ukraine:.- About 700,00...</td>\n      <td>2023-07-03</td>\n      <td>not-known</td>\n    </tr>\n    <tr>\n      <th>386840</th>\n      <td>2882</td>\n      <td>washingtonpost</td>\n      <td>Washington Post</td>\n      <td>After mutiny, Kremlin looks to unwind holdings...</td>\n      <td>2023-07-03</td>\n      <td>not-known</td>\n    </tr>\n    <tr>\n      <th>386841</th>\n      <td>2883</td>\n      <td>washingtonpost</td>\n      <td>Washington Post</td>\n      <td>Celebrated Ukrainian war writer killed in Russ...</td>\n      <td>2023-07-03</td>\n      <td>not-known</td>\n    </tr>\n    <tr>\n      <th>386842</th>\n      <td>2884</td>\n      <td>washingtonpost</td>\n      <td>Washington Post</td>\n      <td>Here is the latest from Ukraine:.- The founder...</td>\n      <td>2023-07-03</td>\n      <td>not-known</td>\n    </tr>\n  </tbody>\n</table>\n<p>4079 rows × 6 columns</p>\n</div>"
     },
     "metadata": {}
    }
   ]
  },
  {
   "cell_type": "code",
   "source": "# increase-support/decrease-support/not-known\npro_rus = war_news[war_news['sentiment'].str.contains('decrease-support')]\npro_rus",
   "metadata": {
    "execution": {
     "iopub.status.busy": "2024-06-05T15:14:39.958472Z",
     "iopub.execute_input": "2024-06-05T15:14:39.958871Z",
     "iopub.status.idle": "2024-06-05T15:14:39.976578Z",
     "shell.execute_reply.started": "2024-06-05T15:14:39.958842Z",
     "shell.execute_reply": "2024-06-05T15:14:39.975700Z"
    },
    "trusted": true
   },
   "execution_count": 122,
   "outputs": [
    {
     "execution_count": 122,
     "output_type": "execute_result",
     "data": {
      "text/plain": "          id        group_id          group_name  \\\n294672    17         nytimes  The New York Times   \n294673    18         nytimes  The New York Times   \n294674    19         nytimes  The New York Times   \n294675    20         nytimes  The New York Times   \n294683    29         nytimes  The New York Times   \n...      ...             ...                 ...   \n384218  2859  washingtonpost     Washington Post   \n384852  2863  washingtonpost     Washington Post   \n384853  2864  washingtonpost     Washington Post   \n385506  2867  washingtonpost     Washington Post   \n385922  2877  washingtonpost     Washington Post   \n\n                                                     text       date  \\\n294672  Ukraine Live Updates: Russian Airstrikes Kill ... 2022-03-13   \n294673  Brent Renaud, an American journalist, is kille... 2022-03-13   \n294674  Fearing beatings and arrests, Russians protest... 2022-03-13   \n294675  Russia Asked China for Military and Economic A... 2022-03-13   \n294683  Videos show civilian casualties in missile str... 2022-03-14   \n...                                                   ...        ...   \n384218  A pro-Russian tide in Slovakia could threaten ... 2023-06-28   \n384852  After Putin speech on deal with mercenaries, R... 2023-06-29   \n384853  After Wagner mutiny, Navalny asks why he, not ... 2023-06-29   \n385506  Putin’s standing as global strongman in jeopar... 2023-06-30   \n385922  Evidence mounts for use of banned mines by Ukr... 2023-07-01   \n\n               sentiment  \n294672  decrease-support  \n294673  decrease-support  \n294674  decrease-support  \n294675  decrease-support  \n294683  decrease-support  \n...                  ...  \n384218  decrease-support  \n384852  decrease-support  \n384853  decrease-support  \n385506  decrease-support  \n385922  decrease-support  \n\n[778 rows x 6 columns]",
      "text/html": "<div>\n<style scoped>\n    .dataframe tbody tr th:only-of-type {\n        vertical-align: middle;\n    }\n\n    .dataframe tbody tr th {\n        vertical-align: top;\n    }\n\n    .dataframe thead th {\n        text-align: right;\n    }\n</style>\n<table border=\"1\" class=\"dataframe\">\n  <thead>\n    <tr style=\"text-align: right;\">\n      <th></th>\n      <th>id</th>\n      <th>group_id</th>\n      <th>group_name</th>\n      <th>text</th>\n      <th>date</th>\n      <th>sentiment</th>\n    </tr>\n  </thead>\n  <tbody>\n    <tr>\n      <th>294672</th>\n      <td>17</td>\n      <td>nytimes</td>\n      <td>The New York Times</td>\n      <td>Ukraine Live Updates: Russian Airstrikes Kill ...</td>\n      <td>2022-03-13</td>\n      <td>decrease-support</td>\n    </tr>\n    <tr>\n      <th>294673</th>\n      <td>18</td>\n      <td>nytimes</td>\n      <td>The New York Times</td>\n      <td>Brent Renaud, an American journalist, is kille...</td>\n      <td>2022-03-13</td>\n      <td>decrease-support</td>\n    </tr>\n    <tr>\n      <th>294674</th>\n      <td>19</td>\n      <td>nytimes</td>\n      <td>The New York Times</td>\n      <td>Fearing beatings and arrests, Russians protest...</td>\n      <td>2022-03-13</td>\n      <td>decrease-support</td>\n    </tr>\n    <tr>\n      <th>294675</th>\n      <td>20</td>\n      <td>nytimes</td>\n      <td>The New York Times</td>\n      <td>Russia Asked China for Military and Economic A...</td>\n      <td>2022-03-13</td>\n      <td>decrease-support</td>\n    </tr>\n    <tr>\n      <th>294683</th>\n      <td>29</td>\n      <td>nytimes</td>\n      <td>The New York Times</td>\n      <td>Videos show civilian casualties in missile str...</td>\n      <td>2022-03-14</td>\n      <td>decrease-support</td>\n    </tr>\n    <tr>\n      <th>...</th>\n      <td>...</td>\n      <td>...</td>\n      <td>...</td>\n      <td>...</td>\n      <td>...</td>\n      <td>...</td>\n    </tr>\n    <tr>\n      <th>384218</th>\n      <td>2859</td>\n      <td>washingtonpost</td>\n      <td>Washington Post</td>\n      <td>A pro-Russian tide in Slovakia could threaten ...</td>\n      <td>2023-06-28</td>\n      <td>decrease-support</td>\n    </tr>\n    <tr>\n      <th>384852</th>\n      <td>2863</td>\n      <td>washingtonpost</td>\n      <td>Washington Post</td>\n      <td>After Putin speech on deal with mercenaries, R...</td>\n      <td>2023-06-29</td>\n      <td>decrease-support</td>\n    </tr>\n    <tr>\n      <th>384853</th>\n      <td>2864</td>\n      <td>washingtonpost</td>\n      <td>Washington Post</td>\n      <td>After Wagner mutiny, Navalny asks why he, not ...</td>\n      <td>2023-06-29</td>\n      <td>decrease-support</td>\n    </tr>\n    <tr>\n      <th>385506</th>\n      <td>2867</td>\n      <td>washingtonpost</td>\n      <td>Washington Post</td>\n      <td>Putin’s standing as global strongman in jeopar...</td>\n      <td>2023-06-30</td>\n      <td>decrease-support</td>\n    </tr>\n    <tr>\n      <th>385922</th>\n      <td>2877</td>\n      <td>washingtonpost</td>\n      <td>Washington Post</td>\n      <td>Evidence mounts for use of banned mines by Ukr...</td>\n      <td>2023-07-01</td>\n      <td>decrease-support</td>\n    </tr>\n  </tbody>\n</table>\n<p>778 rows × 6 columns</p>\n</div>"
     },
     "metadata": {}
    }
   ]
  },
  {
   "cell_type": "code",
   "source": "pro_rus.iloc[1]['text']",
   "metadata": {
    "execution": {
     "iopub.status.busy": "2024-06-05T15:15:24.295455Z",
     "iopub.execute_input": "2024-06-05T15:15:24.296081Z",
     "iopub.status.idle": "2024-06-05T15:15:24.302265Z",
     "shell.execute_reply.started": "2024-06-05T15:15:24.296051Z",
     "shell.execute_reply": "2024-06-05T15:15:24.301462Z"
    },
    "trusted": true
   },
   "execution_count": 127,
   "outputs": [
    {
     "execution_count": 127,
     "output_type": "execute_result",
     "data": {
      "text/plain": "'Brent Renaud, an American journalist, is killed in Ukraine.An award-winning filmmaker and journalist, Mr. Renaud, 50, was killed while reporting in a suburb of Kyiv. Another journalist was wounded.'"
     },
     "metadata": {}
    }
   ]
  }
 ]
}
